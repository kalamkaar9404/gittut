{
 "cells": [
  {
   "cell_type": "code",
   "execution_count": 1,
   "id": "48fcd4e3-bb4d-4b3f-986f-1c9277db8722",
   "metadata": {},
   "outputs": [],
   "source": [
    "#building a binary classifier to identify input image as cat or non cat using log reg"
   ]
  },
  {
   "cell_type": "code",
   "execution_count": 19,
   "id": "78da1126-1623-4e6b-a3cb-eea5b5e6bba1",
   "metadata": {},
   "outputs": [
    {
     "name": "stdout",
     "output_type": "stream",
     "text": [
      "C:\\Users\\khush\\ml\\coursera\n"
     ]
    }
   ],
   "source": [
    "import os\n",
    "print(os.getcwd())\n"
   ]
  },
  {
   "cell_type": "code",
   "execution_count": 20,
   "id": "2b8f71d4-9f7f-4bc5-9ffb-6d97300a1630",
   "metadata": {},
   "outputs": [
    {
     "name": "stdout",
     "output_type": "stream",
     "text": [
      "The autoreload extension is already loaded. To reload it, use:\n",
      "  %reload_ext autoreload\n"
     ]
    }
   ],
   "source": [
    "#packages\n",
    "import numpy as np\n",
    "import copy\n",
    "import matplotlib.pyplot as plt\n",
    "import h5py\n",
    "import scipy\n",
    "from PIL import Image\n",
    "from scipy import ndimage\n",
    "from lr_utils import load_dataset\n",
    "from public_tests import *\n",
    "\n",
    "%matplotlib inline\n",
    "%load_ext autoreload\n",
    "%autoreload 2"
   ]
  },
  {
   "cell_type": "code",
   "execution_count": 21,
   "id": "be7dbaea-f9c1-462a-9bef-ec4bb5fea924",
   "metadata": {},
   "outputs": [],
   "source": [
    "#loading the dataset\n",
    "x_train,y_train,x_test,y_test,classes= load_dataset()"
   ]
  },
  {
   "cell_type": "code",
   "execution_count": 22,
   "id": "31f4135e-d41e-4f33-9c84-d14d58e6a58a",
   "metadata": {},
   "outputs": [
    {
     "name": "stdout",
     "output_type": "stream",
     "text": [
      "y = [0], it's a 'non-cat' picture.\n"
     ]
    },
    {
     "data": {
      "image/png": "[encoded data removed]",
      "text/plain": [
       "<Figure size 640x480 with 1 Axes>"
      ]
     },
     "metadata": {},
     "output_type": "display_data"
    }
   ],
   "source": [
    "# Example of a picture\n",
    "index = 26\n",
    "plt.imshow(x_train[index])\n",
    "print (\"y = \" + str(y_train[:, index]) + \", it's a '\" + classes[np.squeeze(y_train[:, index])].decode(\"utf-8\") +  \"' picture.\")"
   ]
  },
  {
   "cell_type": "code",
   "execution_count": 6,
   "id": "38dc978b-f4a5-466c-baaf-0f49906b2f04",
   "metadata": {},
   "outputs": [
    {
     "name": "stdout",
     "output_type": "stream",
     "text": [
      "Number of training examples: m_train = 209\n",
      "Number of testing examples: m_test = 50\n",
      "Height/Width of each image: num_px = 64\n",
      "Each image is of size: (64, 64, 3)\n",
      "train_set_x shape: (209, 64, 64, 3)\n",
      "train_set_y shape: (1, 209)\n",
      "test_set_x shape: (50, 64, 64, 3)\n",
      "test_set_y shape: (1, 50)\n"
     ]
    }
   ],
   "source": [
    "m_train=x_train.shape[0]\n",
    "m_test=x_test.shape[0]\n",
    "num_px=x_train.shape[1]\n",
    "print (\"Number of training examples: m_train = \" + str(m_train))\n",
    "print (\"Number of testing examples: m_test = \" + str(m_test))\n",
    "print (\"Height/Width of each image: num_px = \" + str(num_px))\n",
    "print (\"Each image is of size: (\" + str(num_px) + \", \" + str(num_px) + \", 3)\")\n",
    "print (\"train_set_x shape: \" + str(x_train.shape))\n",
    "print (\"train_set_y shape: \" + str(y_train.shape))\n",
    "print (\"test_set_x shape: \" + str(x_test.shape))\n",
    "print (\"test_set_y shape: \" + str(y_test.shape))"
   ]
  },
  {
   "cell_type": "code",
   "execution_count": 7,
   "id": "e3c1d7aa-fed8-4ec5-85c6-064bcf899345",
   "metadata": {},
   "outputs": [
    {
     "name": "stdout",
     "output_type": "stream",
     "text": [
      "train_set_x_flatten shape: (12288, 209)\n",
      "train_set_y shape: (1, 209)\n",
      "test_set_x_flatten shape: (12288, 50)\n",
      "test_set_y shape: (1, 50)\n"
     ]
    }
   ],
   "source": [
    "#reshaping the input feature vector\n",
    "train_set_x_flatten=x_train.reshape(x_train.shape[0],-1).T\n",
    "test_set_x_flatten=x_test.reshape(x_test.shape[0],-1).T\n",
    "\n",
    "print (\"train_set_x_flatten shape: \" + str(train_set_x_flatten.shape))\n",
    "print (\"train_set_y shape: \" + str(y_train.shape))\n",
    "print (\"test_set_x_flatten shape: \" + str(test_set_x_flatten.shape))\n",
    "print (\"test_set_y shape: \" + str(y_test.shape))"
   ]
  },
  {
   "cell_type": "code",
   "execution_count": 8,
   "id": "60deeea2-952b-4074-971b-d2e989527190",
   "metadata": {},
   "outputs": [],
   "source": [
    "#standardizing the dataset for easier preprocessing of data\n",
    "x_train=train_set_x_flatten/255\n",
    "x_test=test_set_x_flatten/255"
   ]
  },
  {
   "cell_type": "code",
   "execution_count": 9,
   "id": "8843995f-9ec6-456a-b79f-47f3734f3bc0",
   "metadata": {},
   "outputs": [],
   "source": [
    "#helper functions to implement log_reg\n",
    "#1.sigmoid function\n",
    "def sigmoid(z):\n",
    "    s=1/(1+np.exp(-z))\n",
    "    return s"
   ]
  },
  {
   "cell_type": "code",
   "execution_count": 10,
   "id": "21c6d919-d105-4531-836f-16c33a6392f9",
   "metadata": {},
   "outputs": [
    {
     "data": {
      "text/plain": [
       "array([0.5       , 0.88079708])"
      ]
     },
     "execution_count": 10,
     "metadata": {},
     "output_type": "execute_result"
    }
   ],
   "source": [
    "sigmoid(np.array([0,2]))"
   ]
  },
  {
   "cell_type": "code",
   "execution_count": 11,
   "id": "4e58d004-ff85-4cf9-a576-51d04b8c4c8c",
   "metadata": {},
   "outputs": [],
   "source": [
    "#2, function to initialise the parameters\n",
    "#this function takes in dimension of the feature vector manje kitne length ka f.v initialise karna hai to 0 aur bias term to awai 0 se initialse hogi\n",
    "def init(dim):\n",
    "    w=np.zeros((dim,1))\n",
    "    b=0.0\n",
    "    return w,b"
   ]
  },
  {
   "cell_type": "code",
   "execution_count": 12,
   "id": "daf82625-e38a-49f3-8465-945b54632d31",
   "metadata": {},
   "outputs": [],
   "source": [
    "#3. function to implement forward and backward propogation\n",
    "def propogate(w,b,X,Y):\n",
    "    m_train=X.shape[1]\n",
    "    #forward propogation\n",
    "    z=np.dot(w.T,X)+b\n",
    "    a=sigmoid(z)\n",
    "    cost=-1/m_train*np.sum(Y*np.log(a)+(1-Y)*np.log(1-a))\n",
    "    #backward propogation\n",
    "    dz=a-Y\n",
    "    dw=1/m_train*np.dot(X,dz.T)\n",
    "    db=1/m_train*np.sum(dz)\n",
    "    cost = np.squeeze(np.array(cost))\n",
    "\n",
    "    \n",
    "    grads = {\"dw\": dw,\n",
    "             \"db\": db}\n",
    "    \n",
    "    return grads, cost"
   ]
  },
  {
   "cell_type": "code",
   "execution_count": 13,
   "id": "b06b53a8-a68b-4081-ab46-247a6f731d8a",
   "metadata": {},
   "outputs": [],
   "source": [
    "#optimisation i.e. minimising the calculated cost function by applying gds\n",
    "def optimise(w,b,X,Y,num_iterations=100, learning_rate=0.009, print_cost=False):\n",
    "    w=copy.deepcopy(w)\n",
    "    b=copy.deepcopy(b)\n",
    "    costs=[]\n",
    "    #how many times to apply gds\n",
    "    for i in range(num_iterations):\n",
    "        grads,cost=propogate(w,b,X,Y)\n",
    "        dw=grads[\"dw\"]\n",
    "        db=grads[\"db\"]\n",
    "        w=w-learning_rate*dw\n",
    "        b=b-learning_rate*db\n",
    "        # Record the costs\n",
    "        if i % 100 == 0:\n",
    "            costs.append(cost)\n",
    "        \n",
    "            # Print the cost every 100 training iterations\n",
    "            if print_cost:\n",
    "                print (\"Cost after iteration %i: %f\" %(i, cost))\n",
    "    \n",
    "    params = {\"w\": w,\n",
    "              \"b\": b}\n",
    "    \n",
    "    grads = {\"dw\": dw,\n",
    "             \"db\": db}\n",
    "    \n",
    "    return params, grads, costs"
   ]
  },
  {
   "cell_type": "code",
   "execution_count": 14,
   "id": "1f89a070-37ae-44d9-81a3-afc30c5135c7",
   "metadata": {},
   "outputs": [],
   "source": [
    "#prediction:finally applying what all you have learnt\n",
    "def predict(w,b,X):\n",
    "    m = X.shape[1]\n",
    "    Y_prediction = np.zeros((1, m))\n",
    "    w = w.reshape(X.shape[0], 1)\n",
    "    \n",
    "    # Compute vector \"A\" predicting the probabilities of a cat being present in the picture\n",
    "    #(≈ 1 line of code)\n",
    "    # A = ...\n",
    "    # YOUR CODE STARTS HERE\n",
    "    A=sigmoid(np.dot(w.T,X)+b)\n",
    "    \n",
    "    # YOUR CODE ENDS HERE\n",
    "    \n",
    "    for i in range(A.shape[1]):\n",
    "        \n",
    "        # Convert probabilities A[0,i] to actual predictions p[0,i]\n",
    "        #(≈ 4 lines of code)\n",
    "        # if A[0, i] > ____ :\n",
    "        #     Y_prediction[0,i] = \n",
    "        # else:\n",
    "        #     Y_prediction[0,i] = \n",
    "        # YOUR CODE STARTS HERE\n",
    "        if(A[0,i]>0.5):\n",
    "            Y_prediction[0,i]=1\n",
    "        else:\n",
    "                Y_prediction[0,i]=0\n",
    "        return Y_prediction"
   ]
  },
  {
   "cell_type": "code",
   "execution_count": 15,
   "id": "a051dd50-bd90-400b-a826-d655ccb2777e",
   "metadata": {},
   "outputs": [],
   "source": [
    "# FINALLY this is the last function implmenting the full log_reg model\n",
    "def model(X_train, Y_train, X_test, Y_test, num_iterations=2000, learning_rate=0.5, print_cost=False):\n",
    "    dim=X_train.shape[0]\n",
    "    w,b=init(dim)\n",
    "    print(w.shape)\n",
    "    params,grads,costs=optimise(w,b,X_train,Y_train,num_iterations,learning_rate)\n",
    "#w,b directly as arg pass nahi kar rakhe to params dictionary se retrieve karo\n",
    "    w=params[\"w\"]\n",
    "    b=params[\"b\"]\n",
    "    Y_prediction_test=predict(w,b,X_test)\n",
    "    Y_prediction_train=predict(w,b,X_train)\n",
    "    # Print train/test Errors\n",
    "    if print_cost:\n",
    "        print(\"train accuracy: {} %\".format(100 - np.mean(np.abs(Y_prediction_train - Y_train)) * 100))\n",
    "        print(\"test accuracy: {} %\".format(100 - np.mean(np.abs(Y_prediction_test - Y_test)) * 100))\n",
    "\n",
    "    \n",
    "    d = {\"costs\": costs,\n",
    "         \"Y_prediction_test\": Y_prediction_test, \n",
    "         \"Y_prediction_train\" : Y_prediction_train, \n",
    "         \"w\" : w, \n",
    "         \"b\" : b,\n",
    "         \"learning_rate\" : learning_rate,\n",
    "         \"num_iterations\": num_iterations}\n",
    "    \n",
    "    return d    "
   ]
  },
  {
   "cell_type": "code",
   "execution_count": 16,
   "id": "46762643-ddf1-44fb-8884-f0e08d846606",
   "metadata": {},
   "outputs": [
    {
     "name": "stdout",
     "output_type": "stream",
     "text": [
      "(12288, 1)\n",
      "train accuracy: 65.55023923444976 %\n",
      "test accuracy: 36.0 %\n"
     ]
    }
   ],
   "source": [
    "logistic_regression_model = model(x_train, y_train, x_test, y_test, num_iterations=2000, learning_rate=0.005, print_cost=True)"
   ]
  },
  {
   "cell_type": "code",
   "execution_count": 17,
   "id": "457091bd-bac0-4300-a996-14caa77ea171",
   "metadata": {},
   "outputs": [
    {
     "name": "stdout",
     "output_type": "stream",
     "text": [
      "y = 0.0, your algorithm predicts a \"non-cat\" picture.\n"
     ]
    },
    {
     "data": {
      "image/png": "[encoded data removed]",
      "text/plain": [
       "<Figure size 640x480 with 1 Axes>"
      ]
     },
     "metadata": {},
     "output_type": "display_data"
    }
   ],
   "source": [
    "# change this to the name of your image file\n",
    "my_image = \"Gulab.jpg\"   \n",
    "\n",
    "# We preprocess the image to fit your algorithm.\n",
    "fname = \"images/\" + my_image\n",
    "image = np.array(Image.open(fname).resize((num_px, num_px)))\n",
    "plt.imshow(image)\n",
    "image = image / 255.\n",
    "image = image.reshape((1, num_px * num_px * 3)).T\n",
    "my_predicted_image = predict(logistic_regression_model[\"w\"], logistic_regression_model[\"b\"], image)\n",
    "\n",
    "print(\"y = \" + str(np.squeeze(my_predicted_image)) + \", your algorithm predicts a \\\"\" + classes[int(np.squeeze(my_predicted_image)),].decode(\"utf-8\") +  \"\\\" picture.\")"
   ]
  },
  {
   "cell_type": "code",
   "execution_count": null,
   "id": "0b64528d-ec97-49df-99de-4f3018c66d3a",
   "metadata": {},
   "outputs": [],
   "source": []
  },
  {
   "cell_type": "code",
   "execution_count": null,
   "id": "51497eee-2c45-4f9d-a13d-3195d2daaa0f",
   "metadata": {},
   "outputs": [],
   "source": []
  }
 ],
 "metadata": {
  "kernelspec": {
   "display_name": "Python 3 (ipykernel)",
   "language": "python",
   "name": "python3"
  },
  "language_info": {
   "codemirror_mode": {
    "name": "ipython",
    "version": 3
   },
   "file_extension": ".py",
   "mimetype": "text/x-python",
   "name": "python",
   "nbconvert_exporter": "python",
   "pygments_lexer": "ipython3",
   "version": "3.12.5"
  }
 },
 "nbformat": 4,
 "nbformat_minor": 5
}
