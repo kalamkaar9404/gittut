{
 "cells": [
  {
   "cell_type": "code",
   "execution_count": null,
   "id": "ec5c1637-0d7b-4132-9d63-660c576b8cce",
   "metadata": {},
   "outputs": [],
   "source": [
    "%matplotlib inline\n",
    "import numpy as np\n",
    "import matplotlib.pyplot as plt\n",
    "import seaborn as sns;sns.set()\n",
    "from sklearn.datasets import fetch_20newsgroups\n",
    "data=fetch_20newsgroups()\n",
    "data.target_names()"
   ]
  },
  {
   "cell_type": "code",
   "execution_count": null,
   "id": "69c73952-34ab-4b16-a26e-7844e059420f",
   "metadata": {},
   "outputs": [],
   "source": []
  },
  {
   "cell_type": "code",
   "execution_count": null,
   "id": "cc448249-59c1-46d9-a5f6-af79f77fff3e",
   "metadata": {},
   "outputs": [],
   "source": []
  }
 ],
 "metadata": {
  "kernelspec": {
   "display_name": "Python 3 (ipykernel)",
   "language": "python",
   "name": "python3"
  },
  "language_info": {
   "codemirror_mode": {
    "name": "ipython",
    "version": 3
   },
   "file_extension": ".py",
   "mimetype": "text/x-python",
   "name": "python",
   "nbconvert_exporter": "python",
   "pygments_lexer": "ipython3",
   "version": "3.12.5"
  }
 },
 "nbformat": 4,
 "nbformat_minor": 5
}
